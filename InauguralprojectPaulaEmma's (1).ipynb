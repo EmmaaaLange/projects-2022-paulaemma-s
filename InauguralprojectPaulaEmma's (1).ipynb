{
 "cells": [
  {
   "cell_type": "markdown",
   "id": "2f511aa5-9254-443f-b036-79d5ccc0d616",
   "metadata": {},
   "source": [
    "**Inaugural project, group: PaulaEmma's**"
   ]
  },
  {
   "cell_type": "markdown",
   "id": "70a4fe25",
   "metadata": {},
   "source": [
    "This group consists of:\n",
    "1. Emma Eberlé\n",
    "2. Paula Bolduratu\n",
    "3. Emma Lange"
   ]
  },
  {
   "cell_type": "markdown",
   "id": "4132c4b2-91ea-4e07-b174-49e674cc89ea",
   "metadata": {
    "tags": []
   },
   "source": [
    "In this project, we are working with a benchmark model of insurance policies, Mossin’s model. \n",
    "The expected value if the agent is not insured would be: $$ V_0 =pu(y-x)+(1-p)u(y)$$\n",
    "\n",
    "An insured agent will have expected utility: $$V(q;\\pi)=pu(y-x+q-\\pi(p,q))+(1-p)u(y-\\pi(p,q))$$\n",
    "$\\pi(p,q)$ represents the premium: $$\\pi(p,q)=p*q$$\n",
    "Utility of the assets is given by $u(z)$:$$u(z)= \\frac{z^{1+\\theta}}{1+\\theta}$$"
   ]
  },
  {
   "cell_type": "markdown",
   "id": "1c46b3fe-05ed-4b51-9e58-ffe2cd5a69a4",
   "metadata": {},
   "source": [
    "With $y$ the amount of assets the agent holds; $x$ the monetary loss he may suffer with a probability $p$ and $q\\in [0,x]$ the coverage amount of the insurance. "
   ]
  },
  {
   "cell_type": "markdown",
   "id": "65d825fa-4f0c-4fde-955e-49bf20fa2bd4",
   "metadata": {},
   "source": [
    "We can use the following parameterization: $$y=1$$ $$\\theta=-2$$ $$p=0.2$$\n"
   ]
  },
  {
   "cell_type": "code",
   "execution_count": 1,
   "id": "706bfc46-11d0-4f7f-a571-8921abc6edb8",
   "metadata": {
    "tags": []
   },
   "outputs": [],
   "source": [
    "%load_ext autoreload\n",
    "%autoreload 2"
   ]
  },
  {
   "cell_type": "markdown",
   "id": "d7314bf5-27fc-4cbf-88b0-7051cc0545cd",
   "metadata": {},
   "source": [
    "Importing modules: "
   ]
  },
  {
   "cell_type": "code",
   "execution_count": 2,
   "id": "f46d744c-bb80-4965-a637-a8e9b807f465",
   "metadata": {
    "tags": []
   },
   "outputs": [],
   "source": [
    "import numpy as np\n",
    "from scipy import optimize\n",
    "import matplotlib.pyplot as plt"
   ]
  },
  {
   "cell_type": "markdown",
   "id": "5e1b958e-7605-4852-8315-396e0fabb28a",
   "metadata": {
    "tags": []
   },
   "source": [
    "# Question 1 "
   ]
  },
  {
   "cell_type": "markdown",
   "id": "7f34867a-9414-4526-91fa-861fbd46bdd4",
   "metadata": {},
   "source": [
    "In this question we have to construct a function that takes (x, y, p) as arguments and returns the agents’ optimal\n",
    "insurance coverage for a grid of x's between 0.01 and 0.9. This function will be called \"solver\" and we will use some previously define functions to make it works. We will after plot the results. "
   ]
  },
  {
   "cell_type": "markdown",
   "id": "0db6d01e-bf2e-4542-ab85-676d37dffd31",
   "metadata": {},
   "source": [
    "**Define all the functions**"
   ]
  },
  {
   "cell_type": "code",
   "execution_count": 23,
   "id": "3f352139-5866-41f8-a721-2ec7c0198884",
   "metadata": {},
   "outputs": [],
   "source": [
    "def premium(p,q):\n",
    "    \"\"\"Return the premiumt \"\"\"\n",
    "    return p*q\n",
    "     \n",
    "def u(z,theta):\n",
    "    \"\"\"Return the utility of the assets\"\"\"\n",
    "    return (z**(1+theta))/(1+theta)\n",
    "    \n",
    "def expected_utility(p,y,x,q):\n",
    "    \"\"\"Return the expected utility with an insurance\"\"\"\n",
    "    return p*u(y-x+q-premium(p,q), theta)+(1-p)*u(y-premium(p,q),theta)"
   ]
  },
  {
   "cell_type": "markdown",
   "id": "70dff0ea-f87e-4074-a7f4-dddf8d331cd5",
   "metadata": {},
   "source": [
    "**Define known parameters**   \n",
    "Here we give to N the value 100, it will be our range for the calculations of the optimals q's"
   ]
  },
  {
   "cell_type": "code",
   "execution_count": 4,
   "id": "12ebd236-af39-4ce4-9629-b11599c34112",
   "metadata": {},
   "outputs": [],
   "source": [
    "theta=-2\n",
    "y=1\n",
    "p=0.2\n",
    "N=100"
   ]
  },
  {
   "cell_type": "markdown",
   "id": "464089a0-cf45-49a3-9ae4-17f25bcd6eb2",
   "metadata": {},
   "source": [
    "Create an array of x's equally distributed between 0.01 and 0.9 and an empty array to store all the optimal q's. "
   ]
  },
  {
   "cell_type": "code",
   "execution_count": 5,
   "id": "da8ee449-00b7-425d-bad7-70eb8b9b2351",
   "metadata": {
    "tags": []
   },
   "outputs": [],
   "source": [
    "x_array=np.linspace(0.01,0.9,N)\n",
    "qs_optimal=np.zeros(N)"
   ]
  },
  {
   "cell_type": "markdown",
   "id": "3cd5cd71-548f-4b0f-9921-bdfc62536688",
   "metadata": {},
   "source": [
    "We define here the solver, with the help of the module scipy and the method 'bounded'.  \n",
    "Then we loop over the x and store the results in the qs_optimal array. "
   ]
  },
  {
   "cell_type": "code",
   "execution_count": 6,
   "id": "a2691df1-db7e-449f-93d8-cb6386049644",
   "metadata": {
    "tags": []
   },
   "outputs": [],
   "source": [
    "def solver(p,y,x):\n",
    "    obj = lambda q: -expected_utility(p,y,x,q)\n",
    "    res = optimize.minimize_scalar(obj,bounds=(0,x),method='bounded')\n",
    "    return res.x\n",
    "\n",
    "for i in range(N):\n",
    "    qs_optimal[i] = solver(p,y,x_array[i])        "
   ]
  },
  {
   "cell_type": "markdown",
   "id": "5c874ae3-f027-4bc0-82f2-0481e1b57cad",
   "metadata": {},
   "source": [
    "To plot the result we use the matplotlib module. "
   ]
  },
  {
   "cell_type": "code",
   "execution_count": 7,
   "id": "d4dee8cb-cd7b-4682-9393-df7695744cb2",
   "metadata": {},
   "outputs": [
    {
     "data": {
      "text/plain": [
       "Text(0.5, 1.0, 'Optimal coverage amount depending on monetary loss')"
      ]
     },
     "execution_count": 7,
     "metadata": {},
     "output_type": "execute_result"
    },
    {
     "data": {
      "image/png": "[encoded data removed]",
      "text/plain": [
       "<Figure size 432x288 with 1 Axes>"
      ]
     },
     "metadata": {},
     "output_type": "display_data"
    }
   ],
   "source": [
    "plt.style.use('seaborn-whitegrid')\n",
    "fig=plt.figure()\n",
    "ax = fig.add_subplot(1,2,1)  \n",
    "ax.plot(qs_optimal,x_array)\n",
    "ax.set_ylabel('monetary loss')\n",
    "ax.set_xlabel('coverage amount')\n",
    "ax.set_title('Optimal coverage amount depending on monetary loss')"
   ]
  },
  {
   "cell_type": "markdown",
   "id": "89f33ccb-ba14-4938-93b1-007f0b67b8e6",
   "metadata": {},
   "source": [
    "We can notice that the optimal coverage amount is equal to the potential monetary loss."
   ]
  },
  {
   "cell_type": "markdown",
   "id": "becbd888-a7dd-4c43-96a9-f788a0cf5658",
   "metadata": {
    "tags": []
   },
   "source": [
    "# Question 2"
   ]
  },
  {
   "cell_type": "markdown",
   "metadata": {},
   "source": [
    "We now want to find the set of acceptable contracts from the agent’s point of view, i.e. all the contracts $(q,π)$ that ensure an expected value at least as good as if not having an insurance, $V(q; π) = V_0$.\\\n",
    "\\\n",
    "$i.$ We let the loss be $x= 0.6$ and construct a grid of $q$ over [0.01, 0.6]. The utility functions now become:"
   ]
  },
  {
   "cell_type": "code",
   "execution_count": 8,
   "id": "cbcc6bc7-93f6-4884-82f6-8f68e2d903ea",
   "metadata": {
    "tags": []
   },
   "outputs": [],
   "source": [
    "def u(z, delta = -2):\n",
    "    return (z**(1+delta))/(1+delta)\n",
    "\n",
    "def V0(x=0.6, y = 1, p = 0.2): # fixing x=0.6 for both insured and uninsured agents\n",
    "    return p*u(y-x) + (1-p)*u(y)\n",
    " \n",
    "def V(q, pi, x=0.6, y = 1, p = 0.2): # fixing x=0.6 for both insured and uninsured agents\n",
    "    return p*u(y-x+q-pi) + (1-p)*u(y-pi)"
   ]
  },
  {
   "cell_type": "markdown",
   "id": "d4d1206d",
   "metadata": {},
   "source": [
    "We print the utility level of the uninsured agents as a reference:"
   ]
  },
  {
   "cell_type": "code",
   "execution_count": null,
   "id": "34338ca1",
   "metadata": {},
   "outputs": [],
   "source": [
    "print(V0())"
   ]
  },
  {
   "cell_type": "markdown",
   "id": "fe1147ee",
   "metadata": {},
   "source": [
    "$ii.$ We now want to loop over each element in the grid of $q's$ and find the corresponding $π$ such that $V(q;π) = V_0$. \\\n",
    "First we solve for q=4, and then we loop over possible values of q:"
   ]
  },
  {
   "cell_type": "code",
   "execution_count": null,
   "id": "f631cc6c",
   "metadata": {},
   "outputs": [],
   "source": [
    "def choose(pi):\n",
    "    return np.absolute(V(pi=pi, q=0.4)-V0()) \n",
    "\n",
    "# we define an objective function and minimize the absolute value of insured utility and uninsured utility\n",
    "sol = optimize.minimize_scalar(\n",
    "    choose,\n",
    "    method='bounded',\n",
    "    bounds=(0,0.6)) #we only look at the interval [0,0.6] \n",
    "\n",
    "pi = sol.x\n",
    "print(pi)"
   ]
  },
  {
   "cell_type": "markdown",
   "id": "b73bb19f",
   "metadata": {},
   "source": [
    "We now  analyze for different values of q (limited to the interval $[0.01,0.6]$):"
   ]
  },
  {
   "cell_type": "code",
   "execution_count": null,
   "id": "0372277d",
   "metadata": {},
   "outputs": [],
   "source": [
    "import numpy as np\n",
    "from scipy import optimize\n",
    "\n",
    "pi_save = np.empty(100) #the results are stored in a numpy array\n",
    "ins_acc = np.empty(100)\n",
    "q_vec = np.linspace(0.01, 0.6, 100)\n",
    "for i, q in enumerate(q_vec):\n",
    "    #define what is to be minimized\n",
    "    def choose(pi):\n",
    "        return np.absolute(V(pi=pi, q=q)-V0())\n",
    "    #call the solver\n",
    "    sol = optimize.minimize_scalar(\n",
    "        choose,\n",
    "        method='bounded',\n",
    "        bounds=(0.,0.6))\n",
    "    pi=sol.x\n",
    "    pi_save[i]=pi\n",
    "    ins_acc[i] = 0.2*q"
   ]
  },
  {
   "cell_type": "markdown",
   "id": "4be534e9",
   "metadata": {},
   "source": [
    "$iii.$ We now plot the acceptable premiums:"
   ]
  },
  {
   "cell_type": "code",
   "execution_count": null,
   "id": "5cd7a952",
   "metadata": {},
   "outputs": [],
   "source": [
    "plt.style.use('seaborn-whitegrid')\n",
    "\n",
    "fig = plt.figure()\n",
    "ax = fig.add_subplot(1,1,1)\n",
    "ax.plot(q_vec,pi_save,ls='--',lw=2,color='blue',label='$\\widetilde{\\pi}$ depending on q')\n",
    "ax.plot(q_vec,ins_acc,ls='-',lw=2,color='green',label='$\\pi$(p,q)=$p*q$')\n",
    "ax.fill_between(q_vec, ins_acc, pi_save, color=\"lightgreen\", label=\"acceptable premiums\")\n",
    "ax.set_xlabel('$q$')\n",
    "ax.set_ylabel('$\\widetilde{\\pi} $, $\\pi$')\n",
    "ax.grid(True)\n",
    "ax.legend(loc='lower right')\n",
    "plt.title(\"acceptable premiums, $\\widetilde{\\pi}$\")\n",
    "plt.xlim([0, 0.6])\n",
    "plt.ylim([0, 0.25])"
   ]
  },
  {
   "cell_type": "markdown",
   "id": "93436e4c",
   "metadata": {},
   "source": [
    "? I'm not really sure what I am doing wrong here, but I don't think the plot should look like this...? "
   ]
  },
  {
   "cell_type": "markdown",
   "id": "c989de68-c8da-44ee-b418-2be33d4938cb",
   "metadata": {},
   "source": [
    "# Question 3"
   ]
  },
  {
   "cell_type": "markdown",
   "id": "451b2c71",
   "metadata": {},
   "source": [
    "$i.$ We need to create a function that computes $V(γ,π)$ by Monte Carlo integration using at least 10,000 draws."
   ]
  },
  {
   "cell_type": "code",
   "execution_count": null,
   "id": "01ad12db-ad8f-44e5-9ac7-d08af8c47f23",
   "metadata": {},
   "outputs": [],
   "source": [
    " #we start by importing the relevant modules\n",
    "import math\n",
    "import pickle\n",
    "import numpy as np\n",
    "\n",
    "from scipy.stats import norm # normal distribution\n",
    "\n",
    "%matplotlib inline\n",
    "import matplotlib.pyplot as plt\n",
    "plt.style.use('seaborn-whitegrid')\n",
    "import ipywidgets as widgets"
   ]
  },
  {
   "cell_type": "markdown",
   "id": "8f0efe35",
   "metadata": {},
   "source": [
    "We define the function that we need to integrate and then define the Monte Carlo function:"
   ]
  },
  {
   "cell_type": "code",
   "execution_count": null,
   "id": "530af364-95e1-4650-b0af-3bed627703cd",
   "metadata": {},
   "outputs": [],
   "source": []
  },
  {
   "cell_type": "markdown",
   "id": "ae5f12a2",
   "metadata": {},
   "source": [
    "$ii.$ The agent prefers the insurance policy that..."
   ]
  },
  {
   "cell_type": "markdown",
   "id": "e349516c",
   "metadata": {},
   "source": [
    "# Question 4"
   ]
  },
  {
   "cell_type": "code",
   "execution_count": null,
   "id": "83057714-2478-4f12-8896-d06c114e61db",
   "metadata": {},
   "outputs": [],
   "source": []
  },
  {
   "cell_type": "code",
   "execution_count": null,
   "id": "95db689c-09c4-4405-9dbe-5f713c7492bf",
   "metadata": {},
   "outputs": [],
   "source": []
  },
  {
   "cell_type": "code",
   "execution_count": null,
   "id": "959af2ea-4f23-4c38-8f82-9cabe9a5d775",
   "metadata": {},
   "outputs": [],
   "source": []
  }
 ],
 "metadata": {
  "kernelspec": {
   "display_name": "Python 3 (ipykernel)",
   "language": "python",
   "name": "python3"
  },
  "language_info": {
   "codemirror_mode": {
    "name": "ipython",
    "version": 3
   },
   "file_extension": ".py",
   "mimetype": "text/x-python",
   "name": "python",
   "nbconvert_exporter": "python",
   "pygments_lexer": "ipython3",
   "version": "3.9.7"
  }
 },
 "nbformat": 4,
 "nbformat_minor": 5
}
